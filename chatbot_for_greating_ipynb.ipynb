{
  "nbformat": 4,
  "nbformat_minor": 0,
  "metadata": {
    "colab": {
      "provenance": [],
      "collapsed_sections": []
    },
    "kernelspec": {
      "name": "python3",
      "display_name": "Python 3"
    },
    "language_info": {
      "name": "python"
    }
  },
  "cells": [
    {
      "cell_type": "code",
      "execution_count": 20,
      "metadata": {
        "colab": {
          "base_uri": "https://localhost:8080/"
        },
        "id": "Scj2HM9aSXhm",
        "outputId": "23fe9b81-97ce-4615-834d-b2d129adfaef"
      },
      "outputs": [
        {
          "output_type": "stream",
          "name": "stderr",
          "text": [
            "[nltk_data] Downloading package punkt to /root/nltk_data...\n",
            "[nltk_data]   Package punkt is already up-to-date!\n",
            "[nltk_data] Downloading package wordnet to /root/nltk_data...\n",
            "[nltk_data]   Package wordnet is already up-to-date!\n"
          ]
        },
        {
          "output_type": "execute_result",
          "data": {
            "text/plain": [
              "True"
            ]
          },
          "metadata": {},
          "execution_count": 20
        }
      ],
      "source": [
        "import io\n",
        "import random\n",
        "import string # to process standard python strings\n",
        "import warnings\n",
        "import numpy as np\n",
        "from sklearn.feature_extraction.text import TfidfVectorizer\n",
        "from sklearn.metrics.pairwise import cosine_similarity\n",
        "import warnings\n",
        "warnings.filterwarnings('ignore')\n",
        "import re\n",
        "import nltk\n",
        "import contractions\n",
        "from nltk.stem import WordNetLemmatizer\n",
        "nltk.download('popular', quiet=True)\n",
        "nltk.download('punkt') \n",
        "nltk.download('wordnet')"
      ]
    },
    {
      "cell_type": "code",
      "source": [
        "file=open(\"chat.txt\",\"r\",errors=\"ignore\")\n",
        "\n",
        "raw=file.read()\n",
        "raw"
      ],
      "metadata": {
        "colab": {
          "base_uri": "https://localhost:8080/",
          "height": 140
        },
        "id": "7uoiADz-SadS",
        "outputId": "0134845a-e2c8-435c-a413-8fae5de568db"
      },
      "execution_count": null,
      "outputs": [
        {
          "output_type": "execute_result",
          "data": {
            "text/plain": [
              "'A chatbot (also known as a talkbot, chatterbot, Bot, IM bot, interactive agent, or Artificial Conversational Entity) is a computer program or an artificial intelligence which conducts a conversation via auditory or textual methods. Such programs are often designed to convincingly simulate how a human would behave as a conversational partner, thereby passing the Turing test. Chatbots are typically used in dialog systems for various practical purposes including customer service or information acquisition. Some chatterbots use sophisticated natural language processing systems, but many simpler systems scan for keywords within the input, then pull a reply with the most matching keywords, or the most similar wording pattern, from a database.\\n\\nThe term \"ChatterBot\" was originally coined by Michael Mauldin (creator of the first Verbot, Julia) in 1994 to describe these conversational programs.Today, most chatbots are either accessed via virtual assistants such as Google Assistant and Amazon Alexa, via messaging apps such as Facebook Messenger or WeChat, or via individual organizations\\' apps and websites. Chatbots can be classified into usage categories such as conversational commerce (e-commerce via chat), analytics, communication, customer support, design, developer tools, education, entertainment, finance, food, games, health, HR, marketing, news, personal, productivity, shopping, social, sports, travel and utilities.\\nBackground\\nIn 1950, Alan Turing\\'s famous article \"Computing Machinery and Intelligence\" was published, which proposed what is now called the Turing test as a criterion of intelligence. This criterion depends on the ability of a computer program to impersonate a human in a real-time written conversation with a human judge, sufficiently well that the judge is unable to distinguish reliably—on the basis of the conversational content alone—between the program and a real human. The notoriety of Turing\\'s proposed test stimulated great interest in Joseph Weizenbaum\\'s program ELIZA, published in 1966, which seemed to be able to fool users into believing that they were conversing with a real human. However Weizenbaum himself did not claim that ELIZA was genuinely intelligent, and the Introduction to his paper presented it more as a debunking exercise:\\n\\n[In] artificial intelligence ... machines are made to behave in wondrous ways, often sufficient to dazzle even the most experienced observer. But once a particular program is unmasked, once its inner workings are explained ... its magic crumbles away; it stands revealed as a mere collection of procedures ... The observer says to himself \"I could have written that\". With that thought he moves the program in question from the shelf marked \"intelligent\", to that reserved for curios ... The object of this paper is to cause just such a re-evaluation of the program about to be \"explained\". Few programs ever needed it more.\\n\\nELIZA\\'s key method of operation (copied by chatbot designers ever since) involves the recognition of cue words or phrases in the input, and the output of corresponding pre-prepared or pre-programmed responses that can move the conversation forward in an apparently meaningful way (e.g. by responding to any input that contains the word \\'MOTHER\\' with \\'TELL ME MORE ABOUT YOUR FAMILY\\').Thus an illusion of understanding is generated, even though the processing involved has been merely superficial. ELIZA showed that such an illusion is surprisingly easy to generate, because human judges are so ready to give the benefit of the doubt when conversational responses are capable of being interpreted as \"intelligent\".\\n\\nInterface designers have come to appreciate that humans\\' readiness to interpret computer output as genuinely conversational—even when it is actually based on rather simple pattern-matching—can be exploited for useful purposes. Most people prefer to engage with programs that are human-like, and this gives chatbot-style techniques a potentially useful role in interactive systems that need to elicit information from users, as long as that information is relatively straightforward and falls into predictable categories. Thus, for example, online help systems can usefully employ chatbot techniques to identify the area of help that users require, potentially providing a \"friendlier\" interface than a more formal search or menu system. This sort of usage holds the prospect of moving chatbot technology from Weizenbaum\\'s \"shelf ... reserved for curios\" to that marked \"genuinely useful computational methods\".\\n\\nDevelopment\\nThe classic historic early chatbots are ELIZA (1966) and PARRY (1972).More recent notable programs include A.L.I.C.E., Jabberwacky and D.U.D.E (Agence Nationale de la Recherche and CNRS 2006). While ELIZA and PARRY were used exclusively to simulate typed conversation, many chatbots now include functional features such as games and web searching abilities. In 1984, a book called The Policeman\\'s Beard is Half Constructed was published, allegedly written by the chatbot Racter (though the program as released would not have been capable of doing so).\\n\\nOne pertinent field of AI research is natural language processing. Usually, weak AI fields employ specialized software or programming languages created specifically for the narrow function required. For example, A.L.I.C.E. uses a markup language called AIML, which is specific to its function as a conversational agent, and has since been adopted by various other developers of, so called, Alicebots. Nevertheless, A.L.I.C.E. is still purely based on pattern matching techniques without any reasoning capabilities, the same technique ELIZA was using back in 1966. This is not strong AI, which would require sapience and logical reasoning abilities.\\n\\nJabberwacky learns new responses and context based on real-time user interactions, rather than being driven from a static database. Some more recent chatbots also combine real-time learning with evolutionary algorithms that optimise their ability to communicate based on each conversation held. Still, there is currently no general purpose conversational artificial intelligence, and some software developers focus on the practical aspect, information retrieval.\\n\\nChatbot competitions focus on the Turing test or more specific goals. Two such annual contests are the Loebner Prize and The Chatterbox Challenge (offline since 2015, materials can still be found from web archives).\\n\\nAccording to Forrester (2015), AI will replace 16 percent of American jobs by the end of the decade.Chatbots have been used in applications such as customer service, sales and product education. However, a study conducted by Narrative Science in 2015 found that 80 percent of their respondents believe AI improves worker performance and creates jobs.[citation needed]\\n\\nApplication\\nSee also: Virtual assistant\\n\\nAeromexico airline chatbot running on Facebook Messenger, March 2018\\nMessaging apps\\nMany companies\\' chatbots run on messaging apps like Facebook Messenger (since 2016), WeChat (since 2013),WhatsApp, LiveChat, Kik, Slack, Line, Telegram, or simply via SMS. They are used for B2C customer service, sales and marketing.\\n\\nIn 2016, Facebook Messenger allowed developers to place chatbots on their platform. There were 30,000 bots created for Messenger in the first six months, rising to 100,000 by September 2017.\\n\\nSince September 2017, this has also been as part of a pilot program on WhatsApp. Airlines KLM and Aeroméxico both announced their participation in the testing;both airlines had previously launched customer services on the Facebook Messenger platform.\\n\\nThe bots usually appear as one of the user\\'s contacts, but can sometimes act as participants in a group chat.\\n\\nMany banks and insurers, media and e-commerce companies, airlines and hotel chains, retailers, health care providers, government entities and restaurant chains have used chatbots to answer simple questions, increase customer engagement,for promotion, and to offer additional ways to order from them.\\n\\nA 2017 study showed 4% of companies used chatbots.According to a 2016 study, 80% of businesses said they intended to have one by 2020.\\n\\nAs part of company apps and websites\\nPrevious generations of chatbots were present on company websites, e.g. Ask Jenn from Alaska Airlines which debuted in 2008 or Expedia\\'s virtual customer service agent which launched in 2011.The newer generation of chatbots includes IBM Watson-powered \"Rocky\", introduced in February 2017 by the New York City-based e-commerce company Rare Carat to provide information to prospective diamond buyers.\\n\\nCompany internal platforms\\nOther companies explore ways they can use chatbots internally, for example for Customer Support, Human Resources, or even in Internet-of-Things (IoT) projects. Overstock.com, for one, has reportedly launched a chatbot named Mila to automate certain simple yet time-consuming processes when requesting for a sick leave.Other large companies such as Lloyds Banking Group, Royal Bank of Scotland, Renault and Citroën are now using automated online assistants instead of call centres with humans to provide a first point of contact. A SaaS chatbot business ecosystem has been steadily growing since the F8 Conference when Zuckerberg unveiled that Messenger would allow chatbots into the app.\\n\\nToys\\nChatbots have also been incorporated into devices not primarily meant for computing such as toys.\\n\\nHello Barbie is an Internet-connected version of the doll that uses a chatbot provided by the company ToyTalk,which previously used the chatbot for a range of smartphone-based characters for children.These characters\\' behaviors are constrained by a set of rules that in effect emulate a particular character and produce a storyline.\\n\\nIBM\\'s Watson computer has been used as the basis for chatbot-based educational toys for companies such as CogniToys intended to interact with children for educational purposes.\\n\\nChatbot creation\\nThe process of creating a chatbot follows a pattern similar to the development of a web page or a mobile app. It can be divided into Design, Building, Analytics and Maintenance.\\n\\nDesign\\nThe chatbot design is the process that defines the interaction between the user and the chatbot.The chatbot designer will define the chatbot personality, the questions that will be asked to the users, and the overall interaction.It can be viewed as a subset of the conversational design. In order to speed up this process, designers can use dedicated chatbot design tools, that allow for immediate preview, team collaboration and video export.An important part of the chatbot design is also centered around user testing. User testing can be performed following the same principles that guide the user testing of graphical interfaces.\\n\\nBuilding\\nThe process of building a chatbot can be divided into two main tasks: understanding the user\\'s intent and producing the correct answer. The first task involves understanding the user input. In order to properly understand a user input in a free text form, a Natural Language Processing Engine can be used.The second task may involve different approaches depending on the type of the response that the chatbot will generate.\\n\\nAnalytics\\nThe usage of the chatbot can be monitored in order to spot potential flaws or problems. It can also provide useful insights that can improve the final user experience.\\n\\nMaintenance\\nTo keep chatbots up to speed with changing company products and services, traditional chatbot development platforms require ongoing maintenance. This can either be in the form of an ongoing service provider or for larger enterprises in the form of an in-house chatbot training team.To eliminate these costs, some startups are experimenting with Artificial Intelligence to develop self-learning chatbots, particularly in Customer Service applications.\\n\\nChatbot development platforms\\nThe process of building, testing and deploying chatbots can be done on cloud based chatbot development platforms offered by cloud Platform as a Service (PaaS) providers such as Yekaliva, Oracle Cloud Platform, SnatchBot and IBM Watson.These cloud platforms provide Natural Language Processing, Artificial Intelligence and Mobile Backend as a Service for chatbot development.\\n\\nAPIs\\nThere are many APIs available for building your own chatbots, such as AARC.\\n\\nMalicious use\\nMalicious chatbots are frequently used to fill chat rooms with spam and advertisements, by mimicking human behaviour and conversations or to entice people into revealing personal information, such as bank account numbers. They are commonly found on Yahoo! Messenger, Windows Live Messenger, AOL Instant Messenger and other instant messaging protocols. There has also been a published report of a chatbot used in a fake personal ad on a dating service\\'s website'"
            ],
            "application/vnd.google.colaboratory.intrinsic+json": {
              "type": "string"
            }
          },
          "metadata": {},
          "execution_count": 5
        }
      ]
    },
    {
      "cell_type": "code",
      "source": [
        "textclean='[()]+'\n",
        "spical_char=['#','@','$','/','-','[',']',']','[',',','?','!','%','===','=','.','\"',\"\\n\"]\n",
        "lemmer = nltk.stem.WordNetLemmatizer()\n",
        "\n",
        "def clean(text):\n",
        "   text = re.sub(textclean, '', text.lower())\n",
        "   lemmer.lemmatize(text) \n",
        "   text=contractions.fix(text) \n",
        "  \n",
        "   for i in spical_char:\n",
        "     text=text.replace(i,\" \")\n",
        "\n",
        "   return text  "
      ],
      "metadata": {
        "id": "XjQ5TlsuTwqb"
      },
      "execution_count": 26,
      "outputs": []
    },
    {
      "cell_type": "code",
      "source": [
        "cleanraw=clean(raw)\n",
        "cleanraw"
      ],
      "metadata": {
        "colab": {
          "base_uri": "https://localhost:8080/",
          "height": 140
        },
        "id": "bMZOXw_eU7FE",
        "outputId": "47108d47-e4b8-499d-8608-a72324989783"
      },
      "execution_count": 27,
      "outputs": [
        {
          "output_type": "execute_result",
          "data": {
            "text/plain": [
              "\"a chatbot also known as a talkbot  chatterbot  bot  i am bot  interactive agent  or artificial conversational entity is a computer program or an artificial intelligence which conducts a conversation via auditory or textual methods  such programs are often designed to convincingly simulate how a human would behave as a conversational partner  thereby passing the turing test  chatbots are typically used in dialog systems for various practical purposes including customer service or information acquisition  some chatterbots use sophisticated natural language processing systems  but many simpler systems scan for keywords within the input  then pull a reply with the most matching keywords  or the most similar wording pattern  from a database   the term  chatterbot  was originally coined by michael mauldin creator of the first verbot  julia in 1994 to describe these conversational programs today  most chatbots are either accessed via virtual assistants such as google assistant and amazon alexa  via messaging apps such as facebook messenger or wechat  or via individual organizations' apps and websites  chatbots can be classified into usage categories such as conversational commerce e commerce via chat  analytics  communication  customer support  design  developer tools  education  entertainment  finance  food  games  health  hr  marketing  news  personal  productivity  shopping  social  sports  travel and utilities  background in 1950  alan turing's famous article  computing machinery and intelligence  was published  which proposed what is now called the turing test as a criterion of intelligence  this criterion depends on the ability of a computer program to impersonate a human in a real time written conversation with a human judge  sufficiently well that the judge is unable to distinguish reliably—on the basis of the conversational content alone—between the program and a real human  the notoriety of turing's proposed test stimulated great interest in joseph weizenbaum's program eliza  published in 1966  which seemed to be able to fool users into believing that they were conversing with a real human  however weizenbaum himself did not claim that eliza was genuinely intelligent  and the introduction to his paper presented it more as a debunking exercise:   in  artificial intelligence     machines are made to behave in wondrous ways  often sufficient to dazzle even the most experienced observer  but once a particular program is unmasked  once its inner workings are explained     its magic crumbles away; it stands revealed as a mere collection of procedures     the observer says to himself  i could have written that   with that thought he moves the program in question from the shelf marked  intelligent   to that reserved for curios     the object of this paper is to cause just such a re evaluation of the program about to be  explained   few programs ever needed it more   eliza's key method of operation copied by chatbot designers ever since involves the recognition of cue words or phrases in the input  and the output of corresponding pre prepared or pre programmed responses that can move the conversation forward in an apparently meaningful way e g  by responding to any input that contains the word 'mother' with 'tell me more about your family' thus an illusion of understanding is generated  even though the processing involved has been merely superficial  eliza showed that such an illusion is surprisingly easy to generate  because human judges are so ready to give the benefit of the doubt when conversational responses are capable of being interpreted as  intelligent    interface designers have come to appreciate that humans' readiness to interpret computer output as genuinely conversational—even when it is actually based on rather simple pattern matching—can be exploited for useful purposes  most people prefer to engage with programs that are human like  and this gives chatbot style techniques a potentially useful role in interactive systems that need to elicit information from users  as long as that information is relatively straightforward and falls into predictable categories  thus  for example  online help systems can usefully employ chatbot techniques to identify the area of help that users require  potentially providing a  friendlier  interface than a more formal search or menu system  this sort of usage holds the prospect of moving chatbot technology from weizenbaum's  shelf     reserved for curios  to that marked  genuinely useful computational methods    development the classic historic early chatbots are eliza 1966 and parry 1972 more recent notable programs include a l i c e   jabberwacky and d you d e agence nationale de la recherche and cnrs 2006  while eliza and parry were used exclusively to simulate typed conversation  many chatbots now include functional features such as games and web searching abilities  in 1984  a book called the policeman's beard is half constructed was published  allegedly written by the chatbot racter though the program as released would not have been capable of doing so   one pertinent field of ai research is natural language processing  usually  weak ai fields employ specialized software or programming languages created specifically for the narrow function required  for example  a l i c e  uses a markup language called aiml  which is specific to its function as a conversational agent  and has since been adopted by various other developers of  so called  alicebots  nevertheless  a l i c e  is still purely based on pattern matching techniques without any reasoning capabilities  the same technique eliza was using back in 1966  this is not strong ai  which would require sapience and logical reasoning abilities   jabberwacky learns new responses and context based on real time user interactions  rather than being driven from a static database  some more recent chatbots also combine real time learning with evolutionary algorithms that optimise their ability to communicate based on each conversation held  still  there is currently no general purpose conversational artificial intelligence  and some software developers focus on the practical aspect  information retrieval   chatbot competitions focus on the turing test or more specific goals  two such annual contests are the loebner prize and the chatterbox challenge offline since 2015  materials can still be found from web archives   according to forrester 2015  ai will replace 16 percent of american jobs by the end of the decade chatbots have been used in applications such as customer service  sales and product education  however  a study conducted by narrative science in 2015 found that 80 percent of their respondents believe ai improves worker performance and creates jobs  citation needed   application see also: virtual assistant  aeromexico airline chatbot running on facebook messenger  march 2018 messaging apps many companies' chatbots run on messaging apps like facebook messenger since 2016  wechat since 2013 whatsapp  livechat  kik  slack  line  telegram  or simply via sms  they are used for b2c customer service  sales and marketing   in 2016  facebook messenger allowed developers to place chatbots on their platform  there were 30 000 bots created for messenger in the first six months  rising to 100 000 by september 2017   since september 2017  this has also been as part of a pilot program on whatsapp  airlines klm and aeroméxico both announced their participation in the testing;both airlines had previously launched customer services on the facebook messenger platform   the bots usually appear as one of the user's contacts  but can sometimes act as participants in a group chat   many banks and insurers  media and e commerce companies  airlines and hotel chains  retailers  health care providers  government entities and restaurant chains have used chatbots to answer simple questions  increase customer engagement for promotion  and to offer additional ways to order from them   a 2017 study showed 4  of companies used chatbots according to a 2016 study  80  of businesses said they intended to have one by 2020   as part of company apps and websites previous generations of chatbots were present on company websites  e g  ask jenn from alaska airlines which debuted in 2008 or expedia's virtual customer service agent which launched in 2011 the newer generation of chatbots includes ibm watson powered  rocky   introduced in february 2017 by the new york city based e commerce company rare carat to provide information to prospective diamond buyers   company internal platforms other companies explore ways they can use chatbots internally  for example for customer support  human resources  or even in internet of things iot projects  overstock com  for one  has reportedly launched a chatbot named mila to automate certain simple yet time consuming processes when requesting for a sick leave other large companies such as lloyds banking group  royal bank of scotland  renault and citroën are now using automated online assistants instead of call centres with humans to provide a first point of contact  a saas chatbot business ecosystem has been steadily growing since the f8 conference when zuckerberg unveiled that messenger would allow chatbots into the app   toys chatbots have also been incorporated into devices not primarily meant for computing such as toys   hello barbie is an internet connected version of the doll that uses a chatbot provided by the company toytalk which previously used the chatbot for a range of smartphone based characters for children these characters' behaviors are constrained by a set of rules that in effect emulate a particular character and produce a storyline   ibm's watson computer has been used as the basis for chatbot based educational toys for companies such as cognitoys intended to interact with children for educational purposes   chatbot creation the process of creating a chatbot follows a pattern similar to the development of a web page or a mobile app  it can be divided into design  building  analytics and maintenance   design the chatbot design is the process that defines the interaction between the user and the chatbot the chatbot designer will define the chatbot personality  the questions that will be asked to the users  and the overall interaction it can be viewed as a subset of the conversational design  in order to speed up this process  designers can use dedicated chatbot design tools  that allow for immediate preview  team collaboration and video export an important part of the chatbot design is also centered around user testing  user testing can be performed following the same principles that guide the user testing of graphical interfaces   building the process of building a chatbot can be divided into two main tasks: understanding the user's intent and producing the correct answer  the first task involves understanding the user input  in order to properly understand a user input in a free text form  a natural language processing engine can be used the second task may involve different approaches depending on the type of the response that the chatbot will generate   analytics the usage of the chatbot can be monitored in order to spot potential flaws or problems  it can also provide useful insights that can improve the final user experience   maintenance to keep chatbots up to speed with changing company products and services  traditional chatbot development platforms require ongoing maintenance  this can either be in the form of an ongoing service provider or for larger enterprises in the form of an in house chatbot training team to eliminate these costs  some startups are experimenting with artificial intelligence to develop self learning chatbots  particularly in customer service applications   chatbot development platforms the process of building  testing and deploying chatbots can be done on cloud based chatbot development platforms offered by cloud platform as a service paas providers such as yekaliva  oracle cloud platform  snatchbot and ibm watson these cloud platforms provide natural language processing  artificial intelligence and mobile backend as a service for chatbot development   apis there are many apis available for building your own chatbots  such as aarc   malicious use malicious chatbots are frequently used to fill chat rooms with spam and advertisements  by mimicking human behaviour and conversations or to entice people into revealing personal information  such as bank account numbers  they are commonly found on yahoo  messenger  windows live messenger  aol instant messenger and other instant messaging protocols  there has also been a published report of a chatbot used in a fake personal ad on a dating service's website\""
            ],
            "application/vnd.google.colaboratory.intrinsic+json": {
              "type": "string"
            }
          },
          "metadata": {},
          "execution_count": 27
        }
      ]
    },
    {
      "cell_type": "code",
      "source": [
        "sent_tok=nltk.sent_tokenize(cleanraw)\n",
        "word_tok=nltk.word_tokenize(cleanraw)"
      ],
      "metadata": {
        "id": "R9ouYDGuVo2T"
      },
      "execution_count": 28,
      "outputs": []
    },
    {
      "cell_type": "code",
      "source": [
        "sent_tok[:2]"
      ],
      "metadata": {
        "colab": {
          "base_uri": "https://localhost:8080/"
        },
        "id": "mvN2bssFV9_y",
        "outputId": "8b1ba05a-ab35-42df-e9e8-5f188fcf2cd9"
      },
      "execution_count": 29,
      "outputs": [
        {
          "output_type": "execute_result",
          "data": {
            "text/plain": [
              "[\"a chatbot also known as a talkbot  chatterbot  bot  i am bot  interactive agent  or artificial conversational entity is a computer program or an artificial intelligence which conducts a conversation via auditory or textual methods  such programs are often designed to convincingly simulate how a human would behave as a conversational partner  thereby passing the turing test  chatbots are typically used in dialog systems for various practical purposes including customer service or information acquisition  some chatterbots use sophisticated natural language processing systems  but many simpler systems scan for keywords within the input  then pull a reply with the most matching keywords  or the most similar wording pattern  from a database   the term  chatterbot  was originally coined by michael mauldin creator of the first verbot  julia in 1994 to describe these conversational programs today  most chatbots are either accessed via virtual assistants such as google assistant and amazon alexa  via messaging apps such as facebook messenger or wechat  or via individual organizations' apps and websites  chatbots can be classified into usage categories such as conversational commerce e commerce via chat  analytics  communication  customer support  design  developer tools  education  entertainment  finance  food  games  health  hr  marketing  news  personal  productivity  shopping  social  sports  travel and utilities  background in 1950  alan turing's famous article  computing machinery and intelligence  was published  which proposed what is now called the turing test as a criterion of intelligence  this criterion depends on the ability of a computer program to impersonate a human in a real time written conversation with a human judge  sufficiently well that the judge is unable to distinguish reliably—on the basis of the conversational content alone—between the program and a real human  the notoriety of turing's proposed test stimulated great interest in joseph weizenbaum's program eliza  published in 1966  which seemed to be able to fool users into believing that they were conversing with a real human  however weizenbaum himself did not claim that eliza was genuinely intelligent  and the introduction to his paper presented it more as a debunking exercise:   in  artificial intelligence     machines are made to behave in wondrous ways  often sufficient to dazzle even the most experienced observer  but once a particular program is unmasked  once its inner workings are explained     its magic crumbles away; it stands revealed as a mere collection of procedures     the observer says to himself  i could have written that   with that thought he moves the program in question from the shelf marked  intelligent   to that reserved for curios     the object of this paper is to cause just such a re evaluation of the program about to be  explained   few programs ever needed it more   eliza's key method of operation copied by chatbot designers ever since involves the recognition of cue words or phrases in the input  and the output of corresponding pre prepared or pre programmed responses that can move the conversation forward in an apparently meaningful way e g  by responding to any input that contains the word 'mother' with 'tell me more about your family' thus an illusion of understanding is generated  even though the processing involved has been merely superficial  eliza showed that such an illusion is surprisingly easy to generate  because human judges are so ready to give the benefit of the doubt when conversational responses are capable of being interpreted as  intelligent    interface designers have come to appreciate that humans' readiness to interpret computer output as genuinely conversational—even when it is actually based on rather simple pattern matching—can be exploited for useful purposes  most people prefer to engage with programs that are human like  and this gives chatbot style techniques a potentially useful role in interactive systems that need to elicit information from users  as long as that information is relatively straightforward and falls into predictable categories  thus  for example  online help systems can usefully employ chatbot techniques to identify the area of help that users require  potentially providing a  friendlier  interface than a more formal search or menu system  this sort of usage holds the prospect of moving chatbot technology from weizenbaum's  shelf     reserved for curios  to that marked  genuinely useful computational methods    development the classic historic early chatbots are eliza 1966 and parry 1972 more recent notable programs include a l i c e   jabberwacky and d you d e agence nationale de la recherche and cnrs 2006  while eliza and parry were used exclusively to simulate typed conversation  many chatbots now include functional features such as games and web searching abilities  in 1984  a book called the policeman's beard is half constructed was published  allegedly written by the chatbot racter though the program as released would not have been capable of doing so   one pertinent field of ai research is natural language processing  usually  weak ai fields employ specialized software or programming languages created specifically for the narrow function required  for example  a l i c e  uses a markup language called aiml  which is specific to its function as a conversational agent  and has since been adopted by various other developers of  so called  alicebots  nevertheless  a l i c e  is still purely based on pattern matching techniques without any reasoning capabilities  the same technique eliza was using back in 1966  this is not strong ai  which would require sapience and logical reasoning abilities   jabberwacky learns new responses and context based on real time user interactions  rather than being driven from a static database  some more recent chatbots also combine real time learning with evolutionary algorithms that optimise their ability to communicate based on each conversation held  still  there is currently no general purpose conversational artificial intelligence  and some software developers focus on the practical aspect  information retrieval   chatbot competitions focus on the turing test or more specific goals  two such annual contests are the loebner prize and the chatterbox challenge offline since 2015  materials can still be found from web archives   according to forrester 2015  ai will replace 16 percent of american jobs by the end of the decade chatbots have been used in applications such as customer service  sales and product education  however  a study conducted by narrative science in 2015 found that 80 percent of their respondents believe ai improves worker performance and creates jobs  citation needed   application see also: virtual assistant  aeromexico airline chatbot running on facebook messenger  march 2018 messaging apps many companies' chatbots run on messaging apps like facebook messenger since 2016  wechat since 2013 whatsapp  livechat  kik  slack  line  telegram  or simply via sms  they are used for b2c customer service  sales and marketing   in 2016  facebook messenger allowed developers to place chatbots on their platform  there were 30 000 bots created for messenger in the first six months  rising to 100 000 by september 2017   since september 2017  this has also been as part of a pilot program on whatsapp  airlines klm and aeroméxico both announced their participation in the testing;both airlines had previously launched customer services on the facebook messenger platform   the bots usually appear as one of the user's contacts  but can sometimes act as participants in a group chat   many banks and insurers  media and e commerce companies  airlines and hotel chains  retailers  health care providers  government entities and restaurant chains have used chatbots to answer simple questions  increase customer engagement for promotion  and to offer additional ways to order from them   a 2017 study showed 4  of companies used chatbots according to a 2016 study  80  of businesses said they intended to have one by 2020   as part of company apps and websites previous generations of chatbots were present on company websites  e g  ask jenn from alaska airlines which debuted in 2008 or expedia's virtual customer service agent which launched in 2011 the newer generation of chatbots includes ibm watson powered  rocky   introduced in february 2017 by the new york city based e commerce company rare carat to provide information to prospective diamond buyers   company internal platforms other companies explore ways they can use chatbots internally  for example for customer support  human resources  or even in internet of things iot projects  overstock com  for one  has reportedly launched a chatbot named mila to automate certain simple yet time consuming processes when requesting for a sick leave other large companies such as lloyds banking group  royal bank of scotland  renault and citroën are now using automated online assistants instead of call centres with humans to provide a first point of contact  a saas chatbot business ecosystem has been steadily growing since the f8 conference when zuckerberg unveiled that messenger would allow chatbots into the app   toys chatbots have also been incorporated into devices not primarily meant for computing such as toys   hello barbie is an internet connected version of the doll that uses a chatbot provided by the company toytalk which previously used the chatbot for a range of smartphone based characters for children these characters' behaviors are constrained by a set of rules that in effect emulate a particular character and produce a storyline   ibm's watson computer has been used as the basis for chatbot based educational toys for companies such as cognitoys intended to interact with children for educational purposes   chatbot creation the process of creating a chatbot follows a pattern similar to the development of a web page or a mobile app  it can be divided into design  building  analytics and maintenance   design the chatbot design is the process that defines the interaction between the user and the chatbot the chatbot designer will define the chatbot personality  the questions that will be asked to the users  and the overall interaction it can be viewed as a subset of the conversational design  in order to speed up this process  designers can use dedicated chatbot design tools  that allow for immediate preview  team collaboration and video export an important part of the chatbot design is also centered around user testing  user testing can be performed following the same principles that guide the user testing of graphical interfaces   building the process of building a chatbot can be divided into two main tasks: understanding the user's intent and producing the correct answer  the first task involves understanding the user input  in order to properly understand a user input in a free text form  a natural language processing engine can be used the second task may involve different approaches depending on the type of the response that the chatbot will generate   analytics the usage of the chatbot can be monitored in order to spot potential flaws or problems  it can also provide useful insights that can improve the final user experience   maintenance to keep chatbots up to speed with changing company products and services  traditional chatbot development platforms require ongoing maintenance  this can either be in the form of an ongoing service provider or for larger enterprises in the form of an in house chatbot training team to eliminate these costs  some startups are experimenting with artificial intelligence to develop self learning chatbots  particularly in customer service applications   chatbot development platforms the process of building  testing and deploying chatbots can be done on cloud based chatbot development platforms offered by cloud platform as a service paas providers such as yekaliva  oracle cloud platform  snatchbot and ibm watson these cloud platforms provide natural language processing  artificial intelligence and mobile backend as a service for chatbot development   apis there are many apis available for building your own chatbots  such as aarc   malicious use malicious chatbots are frequently used to fill chat rooms with spam and advertisements  by mimicking human behaviour and conversations or to entice people into revealing personal information  such as bank account numbers  they are commonly found on yahoo  messenger  windows live messenger  aol instant messenger and other instant messaging protocols  there has also been a published report of a chatbot used in a fake personal ad on a dating service's website\"]"
            ]
          },
          "metadata": {},
          "execution_count": 29
        }
      ]
    },
    {
      "cell_type": "code",
      "source": [
        "word_tok[:10]"
      ],
      "metadata": {
        "colab": {
          "base_uri": "https://localhost:8080/"
        },
        "id": "8Jny9c-TWCLZ",
        "outputId": "4a974cff-3cc4-4452-e4a2-7e30ac86fdec"
      },
      "execution_count": 32,
      "outputs": [
        {
          "output_type": "execute_result",
          "data": {
            "text/plain": [
              "['a',\n",
              " 'chatbot',\n",
              " 'also',\n",
              " 'known',\n",
              " 'as',\n",
              " 'a',\n",
              " 'talkbot',\n",
              " 'chatterbot',\n",
              " 'bot',\n",
              " 'i']"
            ]
          },
          "metadata": {},
          "execution_count": 32
        }
      ]
    },
    {
      "cell_type": "code",
      "source": [
        "GREETINGandintro_INPUTS = (\"hello\", \"hi\", \"greetings\", \"sup\", \"what's up\",\"hey\",\"name\")\n",
        "\n",
        "GREETINGandintro_RESPONSES = [\"hi\", \"hey\", \"*nods*\", \"hi there\", \"hello\", \"I am glad! You are talking to me\",\"robo\"]\n",
        "def greeting(sentence):\n",
        " \n",
        "    for word in sentence.split():\n",
        "        if word.lower() in GREETINGandintro_INPUTS:\n",
        "            return random.choice(GREETINGandintro_RESPONSES)\n",
        "\n"
      ],
      "metadata": {
        "id": "Xd1tSqWeWGFG"
      },
      "execution_count": 51,
      "outputs": []
    },
    {
      "cell_type": "code",
      "source": [
        "def response(user_response):\n",
        "    robo_response=''\n",
        "    sent_tok.append(user_response)\n",
        "    TfidfVec = TfidfVectorizer(tokenizer=cleanraw, stop_words='english')\n",
        "    tfidf = TfidfVec.fit_transform(sent_tok)\n",
        "    vals = cosine_similarity(tfidf[-1], tfidf)\n",
        "    idx=vals.argsort()[0][-2]\n",
        "    flat = vals.flatten()\n",
        "    flat.sort()\n",
        "    req_tfidf = flat[-2]\n",
        "    if(req_tfidf==0):\n",
        "        robo_response=robo_response+\"I am sorry! I don't understand you\"\n",
        "        return robo_response\n",
        "    else:\n",
        "        robo_response = robo_response+sent_tok[idx]\n",
        "        return robo_response"
      ],
      "metadata": {
        "id": "Qbe-CBtLYG9f"
      },
      "execution_count": 52,
      "outputs": []
    },
    {
      "cell_type": "code",
      "source": [
        "flag=True\n",
        "print(\"ROBO: My name is Robo. I will answer your queries about Chatbots. If you want to exit, type Bye!\")\n",
        "while(flag==True):\n",
        "    user_response = input()\n",
        "    user_response=user_response.lower()\n",
        "    if(user_response!='bye'):\n",
        "        if(user_response=='thanks' or user_response=='thank you' ):\n",
        "            flag=False\n",
        "            print(\"ROBO: You are welcome..\")\n",
        "        else:\n",
        "            if(greeting(user_response)!=None):\n",
        "                print(\"ROBO: \"+greeting(user_response))\n",
        "            else:\n",
        "                print(\"ROBO: \",end=\"\")\n",
        "                print(response(user_response))\n",
        "                sent_tok.remove(user_response)\n",
        "    else:\n",
        "        flag=False\n",
        "        print(\"ROBO: Bye! take care..\")"
      ],
      "metadata": {
        "colab": {
          "base_uri": "https://localhost:8080/"
        },
        "id": "Rg-tr1ZjZh3r",
        "outputId": "763d4e7b-854a-476e-e545-894c586dffe5"
      },
      "execution_count": null,
      "outputs": [
        {
          "name": "stdout",
          "output_type": "stream",
          "text": [
            "ROBO: My name is Robo. I will answer your queries about Chatbots. If you want to exit, type Bye!\n",
            "bye\n"
          ]
        }
      ]
    }
  ]
}